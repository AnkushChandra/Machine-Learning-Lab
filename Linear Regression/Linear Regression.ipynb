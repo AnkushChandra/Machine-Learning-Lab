{
  "nbformat": 4,
  "nbformat_minor": 0,
  "metadata": {
    "colab": {
      "name": "Untitled7.ipynb",
      "provenance": [],
      "collapsed_sections": []
    },
    "kernelspec": {
      "name": "python3",
      "display_name": "Python 3"
    }
  },
  "cells": [
    {
      "cell_type": "code",
      "metadata": {
        "id": "6NHkF0XGtsbH"
      },
      "source": [
        "import numpy as np \r\n",
        "import pandas as pd \r\n",
        "import matplotlib.pyplot as plt \r\n",
        "from sklearn.model_selection import train_test_split \r\n",
        "from sklearn.linear_model import LinearRegression \r\n",
        "from sklearn import metrics"
      ],
      "execution_count": 23,
      "outputs": []
    },
    {
      "cell_type": "code",
      "metadata": {
        "id": "bL_hsti2uJHw"
      },
      "source": [
        "dataset = pd.read_csv(\"/content/sample_data/kc_house_data.csv\")\r\n",
        "space=dataset['sqft_living']\r\n",
        "price=dataset['price']\r\n"
      ],
      "execution_count": 24,
      "outputs": []
    },
    {
      "cell_type": "code",
      "metadata": {
        "id": "Czql5rfSuQUP"
      },
      "source": [
        "x = np.array(space).reshape(-1, 1)\r\n",
        "y = np.array(price)"
      ],
      "execution_count": 25,
      "outputs": []
    },
    {
      "cell_type": "code",
      "metadata": {
        "id": "fS5HaruzuS2n"
      },
      "source": [
        "\r\n",
        "xtrain, xtest, ytrain, ytest = train_test_split(x,y,test_size=1/3, random_state=0)"
      ],
      "execution_count": 26,
      "outputs": []
    },
    {
      "cell_type": "code",
      "metadata": {
        "colab": {
          "base_uri": "https://localhost:8080/"
        },
        "id": "MuQKBCuwuf74",
        "outputId": "1310febe-a802-44e9-ee8f-6ee3e1344e9e"
      },
      "source": [
        "\r\n",
        "regressor = LinearRegression()\r\n",
        "regressor.fit(xtrain, ytrain)"
      ],
      "execution_count": 27,
      "outputs": [
        {
          "output_type": "execute_result",
          "data": {
            "text/plain": [
              "LinearRegression(copy_X=True, fit_intercept=True, n_jobs=None, normalize=False)"
            ]
          },
          "metadata": {
            "tags": []
          },
          "execution_count": 27
        }
      ]
    },
    {
      "cell_type": "code",
      "metadata": {
        "id": "PqR9ouaJuo8j"
      },
      "source": [
        "pred = regressor.predict(xtest)"
      ],
      "execution_count": 28,
      "outputs": []
    },
    {
      "cell_type": "code",
      "metadata": {
        "colab": {
          "base_uri": "https://localhost:8080/"
        },
        "id": "fm5jbUSsut5J",
        "outputId": "b381bec0-3f97-45c3-bd13-0877747bc905"
      },
      "source": [
        "accuracy = regressor.score(xtest,ytest)\r\n",
        "print(accuracy*100,'%')"
      ],
      "execution_count": 29,
      "outputs": [
        {
          "output_type": "stream",
          "text": [
            "50.000631235586425 %\n"
          ],
          "name": "stdout"
        }
      ]
    },
    {
      "cell_type": "code",
      "metadata": {
        "colab": {
          "base_uri": "https://localhost:8080/"
        },
        "id": "X697vHJavmuF",
        "outputId": "b423d352-b0e4-4b50-9ee1-1709af5bb8e4"
      },
      "source": [
        "\r\n",
        "print('Mean Absolute Error:', metrics.mean_absolute_error(ytest, pred))\r\n",
        "print('Mean Squared Error:', metrics.mean_squared_error(ytest, pred))\r\n",
        "print('Root Mean Squared Error:', np.sqrt(metrics.mean_squared_error(ytest, pred)))"
      ],
      "execution_count": 30,
      "outputs": [
        {
          "output_type": "stream",
          "text": [
            "Mean Absolute Error: 172649.01126504192\n",
            "Mean Squared Error: 72169122334.16641\n",
            "Root Mean Squared Error: 268643.1133198214\n"
          ],
          "name": "stdout"
        }
      ]
    },
    {
      "cell_type": "code",
      "metadata": {
        "colab": {
          "base_uri": "https://localhost:8080/",
          "height": 295
        },
        "id": "9zASFPpayPPF",
        "outputId": "fbae7e45-1889-42ee-bc32-f149166aa8af"
      },
      "source": [
        "plt.scatter(xtest, ytest, color= 'red')\r\n",
        "plt.plot(xtrain, regressor.predict(xtrain), color = 'blue')\r\n",
        "plt.title(\"Visuals for Test DataSet\")\r\n",
        "plt.xlabel(\"Space\")\r\n",
        "plt.ylabel(\"Price\")\r\n",
        "plt.show()"
      ],
      "execution_count": 31,
      "outputs": [
        {
          "output_type": "display_data",
          "data": {
            "image/png": "[encoded data removed]",
            "text/plain": [
              "<Figure size 432x288 with 1 Axes>"
            ]
          },
          "metadata": {
            "tags": [],
            "needs_background": "light"
          }
        }
      ]
    }
  ]
}