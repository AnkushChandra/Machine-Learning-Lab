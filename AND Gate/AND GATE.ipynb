{
  "nbformat": 4,
  "nbformat_minor": 0,
  "metadata": {
    "colab": {
      "name": "AND_NN.ipynb",
      "provenance": [],
      "collapsed_sections": []
    },
    "kernelspec": {
      "name": "python3",
      "display_name": "Python 3"
    },
    "language_info": {
      "name": "python"
    }
  },
  "cells": [
    {
      "cell_type": "code",
      "metadata": {
        "id": "QTliOFVCdywL"
      },
      "source": [
        "import keras\n",
        "from keras import models\n",
        "from keras import layers\n",
        "from keras import losses \n",
        "from keras import optimizers \n",
        "from keras import metrics \n",
        "import numpy as np\n",
        "import pandas as pd"
      ],
      "execution_count": 1,
      "outputs": []
    },
    {
      "cell_type": "code",
      "metadata": {
        "colab": {
          "base_uri": "https://localhost:8080/"
        },
        "id": "glOtiH54d6lE",
        "outputId": "87215c79-1f98-4507-c6ac-cca4110d9684"
      },
      "source": [
        "X = np.random.randint(0, 2, (10000, 2))\n",
        "y = X[:,0]*X[:,1]\n",
        "print(X[:10])\n",
        "print(y[:10])"
      ],
      "execution_count": 2,
      "outputs": [
        {
          "output_type": "stream",
          "text": [
            "[[0 1]\n",
            " [0 1]\n",
            " [0 1]\n",
            " [1 0]\n",
            " [0 1]\n",
            " [1 1]\n",
            " [1 0]\n",
            " [0 1]\n",
            " [0 1]\n",
            " [1 0]]\n",
            "[0 0 0 0 0 1 0 0 0 0]\n"
          ],
          "name": "stdout"
        }
      ]
    },
    {
      "cell_type": "code",
      "metadata": {
        "id": "U2y-6uYKd3uH"
      },
      "source": [
        "model = models.Sequential()\n",
        "model.add(layers.Dense(1, input_shape=(2,), activation='sigmoid'))\n",
        "model.compile(loss='mean_squared_error', optimizer='adam', metrics=[metrics.categorical_accuracy])"
      ],
      "execution_count": 3,
      "outputs": []
    },
    {
      "cell_type": "code",
      "metadata": {
        "colab": {
          "base_uri": "https://localhost:8080/"
        },
        "id": "-6K6xo-eeTUq",
        "outputId": "74bfd6bc-cd2d-4bc7-a11b-efa60aa4fe72"
      },
      "source": [
        "Result=history = model.fit(X, y, validation_split=(0.2), batch_size=100, epochs=10, verbose=1)"
      ],
      "execution_count": 4,
      "outputs": [
        {
          "output_type": "stream",
          "text": [
            "Epoch 1/10\n",
            "80/80 [==============================] - 1s 7ms/step - loss: 0.2552 - categorical_accuracy: 1.0000 - val_loss: 0.2459 - val_categorical_accuracy: 1.0000\n",
            "Epoch 2/10\n",
            "80/80 [==============================] - 0s 2ms/step - loss: 0.2458 - categorical_accuracy: 1.0000 - val_loss: 0.2354 - val_categorical_accuracy: 1.0000\n",
            "Epoch 3/10\n",
            "80/80 [==============================] - 0s 2ms/step - loss: 0.2327 - categorical_accuracy: 1.0000 - val_loss: 0.2258 - val_categorical_accuracy: 1.0000\n",
            "Epoch 4/10\n",
            "80/80 [==============================] - 0s 2ms/step - loss: 0.2250 - categorical_accuracy: 1.0000 - val_loss: 0.2168 - val_categorical_accuracy: 1.0000\n",
            "Epoch 5/10\n",
            "80/80 [==============================] - 0s 2ms/step - loss: 0.2167 - categorical_accuracy: 1.0000 - val_loss: 0.2085 - val_categorical_accuracy: 1.0000\n",
            "Epoch 6/10\n",
            "80/80 [==============================] - 0s 2ms/step - loss: 0.2083 - categorical_accuracy: 1.0000 - val_loss: 0.2008 - val_categorical_accuracy: 1.0000\n",
            "Epoch 7/10\n",
            "80/80 [==============================] - 0s 2ms/step - loss: 0.2012 - categorical_accuracy: 1.0000 - val_loss: 0.1936 - val_categorical_accuracy: 1.0000\n",
            "Epoch 8/10\n",
            "80/80 [==============================] - 0s 2ms/step - loss: 0.1933 - categorical_accuracy: 1.0000 - val_loss: 0.1869 - val_categorical_accuracy: 1.0000\n",
            "Epoch 9/10\n",
            "80/80 [==============================] - 0s 2ms/step - loss: 0.1872 - categorical_accuracy: 1.0000 - val_loss: 0.1805 - val_categorical_accuracy: 1.0000\n",
            "Epoch 10/10\n",
            "80/80 [==============================] - 0s 2ms/step - loss: 0.1810 - categorical_accuracy: 1.0000 - val_loss: 0.1745 - val_categorical_accuracy: 1.0000\n"
          ],
          "name": "stdout"
        }
      ]
    },
    {
      "cell_type": "markdown",
      "metadata": {
        "id": "R7W_oOf2fiIj"
      },
      "source": [
        "Results"
      ]
    },
    {
      "cell_type": "code",
      "metadata": {
        "colab": {
          "base_uri": "https://localhost:8080/"
        },
        "id": "NJod8A5zexQu",
        "outputId": "aa1a44b5-0ed2-49e7-fab3-846ad5a8cc8f"
      },
      "source": [
        "print(model.predict([[0,1]]).round())"
      ],
      "execution_count": 5,
      "outputs": [
        {
          "output_type": "stream",
          "text": [
            "[[0.]]\n"
          ],
          "name": "stdout"
        }
      ]
    },
    {
      "cell_type": "code",
      "metadata": {
        "colab": {
          "base_uri": "https://localhost:8080/"
        },
        "id": "FUANNbPmfChq",
        "outputId": "e79fa626-56e0-4e6f-aff9-9cc387d67956"
      },
      "source": [
        "print(model.predict([[0,0]]).round())"
      ],
      "execution_count": 6,
      "outputs": [
        {
          "output_type": "stream",
          "text": [
            "[[0.]]\n"
          ],
          "name": "stdout"
        }
      ]
    },
    {
      "cell_type": "code",
      "metadata": {
        "colab": {
          "base_uri": "https://localhost:8080/"
        },
        "id": "FGvYCS_afHZf",
        "outputId": "878f1357-fd64-4cfb-8541-51e306009f07"
      },
      "source": [
        "print(model.predict([[1,1]]).round())"
      ],
      "execution_count": 7,
      "outputs": [
        {
          "output_type": "stream",
          "text": [
            "[[1.]]\n"
          ],
          "name": "stdout"
        }
      ]
    },
    {
      "cell_type": "code",
      "metadata": {
        "colab": {
          "base_uri": "https://localhost:8080/"
        },
        "id": "eHS3CniMfJSJ",
        "outputId": "aae0f153-6890-4f64-b0ba-d921cd4f86f7"
      },
      "source": [
        "print(model.predict([[1,0]]).round())"
      ],
      "execution_count": 8,
      "outputs": [
        {
          "output_type": "stream",
          "text": [
            "[[0.]]\n"
          ],
          "name": "stdout"
        }
      ]
    },
    {
      "cell_type": "code",
      "metadata": {
        "id": "1zkEaKFpfyjK"
      },
      "source": [
        ""
      ],
      "execution_count": null,
      "outputs": []
    }
  ]
}